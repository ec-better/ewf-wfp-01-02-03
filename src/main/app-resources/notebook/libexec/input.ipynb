{
 "cells": [
  {
   "cell_type": "markdown",
   "metadata": {},
   "source": [
    "## WFP-01-02-03 Data transformation application - Sentinel-1 backscatter Sigma-0 all polarization"
   ]
  },
  {
   "cell_type": "markdown",
   "metadata": {},
   "source": [
    "This application is part of the usage of Sentinel-1 complex and backscatter data for detection and quantification of food security related (natural) hazards and land cover/ land use change"
   ]
  },
  {
   "cell_type": "markdown",
   "metadata": {},
   "source": [
    "### <a name=\"quicklink\">Quick link"
   ]
  },
  {
   "cell_type": "markdown",
   "metadata": {},
   "source": [
    "* [Objective](#Objective)\n",
    "* [Data](#Data)\n",
    "* [Service Definition](#Service-Definition)\n",
    "* [Parameter Definition](#Parameter-Definition)\n",
    "* [Runtime Parameter Definition](#Runtime-Parameter-Definition)\n",
    "* [Workflow](#Workflow)\n",
    "* [License](#License)"
   ]
  },
  {
   "cell_type": "markdown",
   "metadata": {},
   "source": [
    "### Objective "
   ]
  },
  {
   "cell_type": "markdown",
   "metadata": {},
   "source": [
    "Process Sentinel-1 GRD with:\n",
    "\n",
    "* Application of orbit file (if available, but should not hold the processing of the product)\n",
    "* Border noise removal (if necessary)\n",
    "* Calibration\n",
    "* (Multi-temporal) Speckle filtering \n",
    "* Terrain correction\n",
    "* Conversion to dB"
   ]
  },
  {
   "cell_type": "markdown",
   "metadata": {},
   "source": [
    "### Data "
   ]
  },
  {
   "cell_type": "markdown",
   "metadata": {},
   "source": [
    "SENTINEL data products are made available systematically and free of charge to all data users including the general public, scientific and commercial users. Radar data will be delivered within an hour of reception for Near Real-Time (NRT) emergency response, within three hours for NRT priority areas and within 24 hours for systematically archived data.\n",
    "\n",
    "All data products are distributed in the SENTINEL Standard Archive Format for Europe (SAFE) format.\n",
    "\n",
    "Sentinel-1 data products are available in single polarisation (VV or HH) for Wave mode and dual polarisation (VV+VH or HH+HV) and single polarisation (HH or VV) for SM, IW and EW modes.\n",
    "\n",
    "Level-1 Ground Range Detected (GRD) products consist of focused SAR data that has been detected, multi-looked and projected to ground range using an Earth ellipsoid model. Phase information is lost. The resulting product has approximately square resolution pixels and square pixel spacing with reduced speckle at the cost of reduced geometric resolution.\n",
    "\n",
    "GRD products can be in one of three resolutions:\n",
    "\n",
    "* Full Resolution (FR)\n",
    "* High Resolution (HR)\n",
    "* Medium Resolution (MR).\n",
    "\n",
    "The resolution is dependent upon the amount of multi-looking performed. Level-1 GRD products are available in MR and HR for IW and EW modes, MR for WV mode and MR, HR and FR for SM mode."
   ]
  },
  {
   "cell_type": "markdown",
   "metadata": {},
   "source": [
    "### Service Definition "
   ]
  },
  {
   "cell_type": "code",
   "execution_count": 1,
   "metadata": {
    "collapsed": true
   },
   "outputs": [],
   "source": [
    "service = dict([('title', 'WFP-01-02-03 Sentinel-1 backscatter all polarization'),\n",
    "                ('abstract', 'WFP-01-02-03 Data transformation application - Sentinel-1 backscatter all polarization'),\n",
    "                ('id', 'wfp-01-02-03')])"
   ]
  },
  {
   "cell_type": "markdown",
   "metadata": {},
   "source": [
    "### Parameter Definition "
   ]
  },
  {
   "cell_type": "markdown",
   "metadata": {},
   "source": [
    "**Speckle-Filter filterSizeX**"
   ]
  },
  {
   "cell_type": "code",
   "execution_count": 2,
   "metadata": {
    "collapsed": true
   },
   "outputs": [],
   "source": [
    "filterSizeX = dict([('id', 'filterSizeX'),\n",
    "               ('value', '5'),\n",
    "               ('title', 'Speckle-Filter filterSizeX'),\n",
    "               ('abstract', 'Set the Speckle-Filter filterSizeX (defaults to 5)')])"
   ]
  },
  {
   "cell_type": "markdown",
   "metadata": {},
   "source": [
    "**Speckle-Filter filterSizeY**"
   ]
  },
  {
   "cell_type": "code",
   "execution_count": 3,
   "metadata": {
    "collapsed": true
   },
   "outputs": [],
   "source": [
    "filterSizeY = dict([('id', 'filterSizeY'),\n",
    "               ('value', '5'),\n",
    "               ('title', 'Speckle-Filter filterSizeY'),\n",
    "               ('abstract', 'Set the Speckle-Filter filterSizeY (defaults to 5)')])"
   ]
  },
  {
   "cell_type": "markdown",
   "metadata": {},
   "source": [
    "**Polarisation mode**\n",
    "\n",
    "The Sentinel-1 C-band SAR instruments supports operation in single polarisation (HH or VV) and dual polarisation (HH+HV or VV+VH), implemented through one transmit chain (switchable to H or V) and two parallel receive chains for H and V polarisation.\n",
    "\n",
    "Let's keep the polarisation parameter empty, this way GPT will process all bands."
   ]
  },
  {
   "cell_type": "code",
   "execution_count": 4,
   "metadata": {
    "collapsed": true
   },
   "outputs": [],
   "source": [
    "#polarisation = dict([('id', 'polarisation'),\n",
    "#               ('value', 'VV'),\n",
    "#               ('title', 'Sentinel-1 polarisation (VV or HH)'),\n",
    "#               ('abstract', 'Sentinel-1 polarisation (VV or HH)')])"
   ]
  },
  {
   "cell_type": "markdown",
   "metadata": {},
   "source": [
    "**Area of interest**\n",
    "\n",
    "Define the area of interest using a polygon in Well-Known-Text format"
   ]
  },
  {
   "cell_type": "code",
   "execution_count": 5,
   "metadata": {
    "collapsed": true
   },
   "outputs": [],
   "source": [
    "wkt = dict([('id', 'wkt'),\n",
    "            ('value', 'POLYGON((-5.5 17.26, -1.08 17.26, -1.08 13.5, -5.5 13.5, -5.5 17.26))'),\n",
    "            ('title', 'Area of interest in WKT'),\n",
    "            ('abstract', 'Area of interest using a polygon in Well-Known-Text format')])"
   ]
  },
  {
   "cell_type": "markdown",
   "metadata": {},
   "source": [
    "### Runtime parameter definition"
   ]
  },
  {
   "cell_type": "markdown",
   "metadata": {},
   "source": [
    "**Input identifier**\n",
    "\n",
    "This is the Sentinel-1 GRD product identifier, e.g. **S1A_IW_GRDH_1SDV_20171210T182024_20171210T182049_019644_021603_0A33**"
   ]
  },
  {
   "cell_type": "code",
   "execution_count": 6,
   "metadata": {
    "collapsed": true
   },
   "outputs": [],
   "source": [
    "input_identifier = 'S1A_IW_GRDH_1SDV_20171210T182024_20171210T182049_019644_021603_0A33'"
   ]
  },
  {
   "cell_type": "markdown",
   "metadata": {},
   "source": [
    "**Input reference**\n",
    "\n",
    "This is the Sentinel-1 GRD product catalogue reference"
   ]
  },
  {
   "cell_type": "code",
   "execution_count": 7,
   "metadata": {
    "collapsed": true
   },
   "outputs": [],
   "source": [
    "input_reference = 'https://catalog.terradue.com/sentinel1/search?format=atom&uid=S1A_IW_GRDH_1SDV_20171210T182024_20171210T182049_019644_021603_0A33' "
   ]
  },
  {
   "cell_type": "markdown",
   "metadata": {},
   "source": [
    "**Data path**\n",
    "\n",
    "This path defines where the data is staged-in. "
   ]
  },
  {
   "cell_type": "code",
   "execution_count": 8,
   "metadata": {
    "collapsed": true
   },
   "outputs": [],
   "source": [
    "data_path = '/workspace/data'"
   ]
  },
  {
   "cell_type": "markdown",
   "metadata": {},
   "source": [
    "### Workflow"
   ]
  },
  {
   "cell_type": "markdown",
   "metadata": {},
   "source": [
    "#### Import the packages required for processing the Sentinel-1 backscatter"
   ]
  },
  {
   "cell_type": "code",
   "execution_count": 9,
   "metadata": {
    "collapsed": true
   },
   "outputs": [],
   "source": [
    "%matplotlib inline\n",
    "\n",
    "import warnings\n",
    "warnings.filterwarnings(\"ignore\")\n",
    "import os\n",
    "import sys\n",
    "import glob\n",
    "sys.path.append('/opt/anaconda/bin/')\n",
    "\n",
    "import numpy as np\n",
    "import matplotlib\n",
    "import matplotlib.pyplot as plt\n",
    "import matplotlib.colors as colors\n",
    "\n",
    "from snappy import jpy\n",
    "from snappy import ProductIO\n",
    "from snappy import GPF\n",
    "from snappy import HashMap\n",
    "\n",
    "import gc"
   ]
  },
  {
   "cell_type": "markdown",
   "metadata": {},
   "source": [
    "#### Read the product"
   ]
  },
  {
   "cell_type": "code",
   "execution_count": 10,
   "metadata": {
    "collapsed": false
   },
   "outputs": [],
   "source": [
    "s1meta = \"manifest.safe\"\n",
    "\n",
    "s1prd = os.path.join(data_path, input_identifier, input_identifier + '.SAFE', s1meta)\n",
    "\n",
    "reader = ProductIO.getProductReader(\"SENTINEL-1\")\n",
    "product = reader.readProductNodes(s1prd, None)"
   ]
  },
  {
   "cell_type": "markdown",
   "metadata": {},
   "source": [
    "#### ThermalNoiseRemoval step"
   ]
  },
  {
   "cell_type": "code",
   "execution_count": 11,
   "metadata": {
    "collapsed": false
   },
   "outputs": [],
   "source": [
    "HashMap = jpy.get_type('java.util.HashMap')    \n",
    "GPF.getDefaultInstance().getOperatorSpiRegistry().loadOperatorSpis()\n",
    "\n",
    "parameters = HashMap()\n",
    "\n",
    "#parameters.put('selectedPolarisations', polarisation['value'])\n",
    "parameters.put('removeThermalNoise', 'true')\n",
    "parameters.put('reIntroduceThermalNoise', 'false')\n",
    "\n",
    "thermal_noise_removal = GPF.createProduct('ThermalNoiseRemoval', parameters, product)"
   ]
  },
  {
   "cell_type": "markdown",
   "metadata": {},
   "source": [
    "#### Apply-Orbit-File"
   ]
  },
  {
   "cell_type": "code",
   "execution_count": 12,
   "metadata": {
    "collapsed": true
   },
   "outputs": [],
   "source": [
    "parameters = HashMap()\n",
    "\n",
    "parameters.put('orbitType', 'Sentinel Precise (Auto Download)')\n",
    "parameters.put('polyDegree', '3')\n",
    "parameters.put('continueOnFail', 'false')\n",
    "\n",
    "apply_orbit_file = GPF.createProduct('Apply-Orbit-File', parameters, thermal_noise_removal)"
   ]
  },
  {
   "cell_type": "markdown",
   "metadata": {},
   "source": [
    "#### Calibration"
   ]
  },
  {
   "cell_type": "code",
   "execution_count": 13,
   "metadata": {
    "collapsed": false
   },
   "outputs": [],
   "source": [
    "parameters = HashMap()\n",
    "\n",
    "parameters.put('auxFile', 'Product Auxiliary File')\n",
    "parameters.put('outputImageInComplex', 'false')\n",
    "parameters.put('outputImageScaleInDb', 'false')\n",
    "parameters.put('createGammaBand', 'false')\n",
    "parameters.put('createBetaBand', 'true')\n",
    "#parameters.put('selectedPolarisations', polarisation['value'])\n",
    "parameters.put('outputSigmaBand', 'false')\n",
    "parameters.put('outputGammaBand', 'false')\n",
    "parameters.put('outputBetaBand', 'true')\n",
    "\n",
    "calibration = GPF.createProduct('Calibration', parameters, apply_orbit_file)"
   ]
  },
  {
   "cell_type": "markdown",
   "metadata": {},
   "source": [
    "#### Speckle-Filter"
   ]
  },
  {
   "cell_type": "code",
   "execution_count": 14,
   "metadata": {
    "collapsed": false
   },
   "outputs": [],
   "source": [
    "parameters = HashMap()\n",
    "\n",
    "#parameters.put('sourceBands', 'Beta0_%s' % (polarisation['value']))\n",
    "parameters.put('filter', 'Lee')\n",
    "parameters.put('filterSizeX', filterSizeX['value'])\n",
    "parameters.put('filterSizeY', filterSizeY['value'])\n",
    "parameters.put('dampingFactor', '2')\n",
    "parameters.put('estimateENL', 'true')\n",
    "parameters.put('enl', '1.0')\n",
    "parameters.put('numLooksStr', '1')\n",
    "parameters.put('targetWindowSizeStr', '3x3')\n",
    "parameters.put('sigmaStr', '0.9')\n",
    "parameters.put('anSize', '50')\n",
    "\n",
    "speckle_filter = GPF.createProduct('Speckle-Filter', parameters, calibration)"
   ]
  },
  {
   "cell_type": "markdown",
   "metadata": {},
   "source": [
    "#### Terrain-Correction"
   ]
  },
  {
   "cell_type": "code",
   "execution_count": 15,
   "metadata": {
    "collapsed": false
   },
   "outputs": [],
   "source": [
    "parameters = HashMap()\n",
    "\n",
    "#parameters.put('sourceBands', 'Beta0_%s' % (polarisation['value']))\n",
    "parameters.put('demName', 'SRTM 3Sec')\n",
    "parameters.put('externalDEMFile', '')\n",
    "parameters.put('externalDEMNoDataValue', '0.0')\n",
    "parameters.put('externalDEMApplyEGM', 'true')\n",
    "parameters.put('demResamplingMethod', 'BILINEAR_INTERPOLATION')\n",
    "parameters.put('imgResamplingMethod', 'BILINEAR_INTERPOLATION')\n",
    "parameters.put('pixelSpacingInMeter', '10.0')\n",
    "#parameters.put('pixelSpacingInDegree', '8.983152841195215E-5')\n",
    "parameters.put('mapProjection', 'AUTO:42001')\n",
    "parameters.put('nodataValueAtSea', 'true')\n",
    "parameters.put('saveDEM', 'false')\n",
    "parameters.put('saveLatLon', 'false')\n",
    "parameters.put('saveIncidenceAngleFromEllipsoid', 'false')\n",
    "parameters.put('saveProjectedLocalIncidenceAngle', 'false')\n",
    "parameters.put('saveSelectedSourceBand', 'true')\n",
    "parameters.put('outputComplex', 'false')\n",
    "parameters.put('applyRadiometricNormalization', 'false')\n",
    "parameters.put('saveSigmaNought', 'false')\n",
    "parameters.put('saveGammaNought', 'false')\n",
    "parameters.put('saveBetaNought', 'false')\n",
    "parameters.put('incidenceAngleForSigma0', 'Use projected local incidence angle from DEM')\n",
    "parameters.put('incidenceAngleForGamma0', 'Use projected local incidence angle from DEM')\n",
    "parameters.put('auxFile', 'Latest Auxiliary File')\n",
    "\n",
    "terrain_correction = GPF.createProduct('Terrain-Correction', parameters, speckle_filter)"
   ]
  },
  {
   "cell_type": "markdown",
   "metadata": {},
   "source": [
    "#### Linear to dB"
   ]
  },
  {
   "cell_type": "code",
   "execution_count": 16,
   "metadata": {
    "collapsed": false
   },
   "outputs": [],
   "source": [
    "parameters = HashMap()\n",
    "\n",
    "lineartodb = GPF.createProduct('linearToFromdB', parameters, terrain_correction)"
   ]
  },
  {
   "cell_type": "markdown",
   "metadata": {},
   "source": [
    "#### Subset"
   ]
  },
  {
   "cell_type": "code",
   "execution_count": 17,
   "metadata": {
    "collapsed": false
   },
   "outputs": [],
   "source": [
    "#parameters = HashMap()\n",
    "\n",
    "#parameters.put('sourceBands', 'Beta0_%s' % (polarisation['value']))\n",
    "##parameters.put('region', '')\n",
    "#parameters.put('geoRegion', wkt['value'])\n",
    "#parameters.put('subSamplingX', '1')\n",
    "#parameters.put('subSamplingY', '1')\n",
    "#parameters.put('fullSwath', 'false')\n",
    "#parameters.put('tiePointGridNames', '')\n",
    "#parameters.put('copyMetadata', 'true')\n",
    "\n",
    "#subset = GPF.createProduct('Subset', parameters, terrain_correction)"
   ]
  },
  {
   "cell_type": "markdown",
   "metadata": {},
   "source": [
    "#### Garbage collector"
   ]
  },
  {
   "cell_type": "code",
   "execution_count": 18,
   "metadata": {
    "collapsed": false
   },
   "outputs": [
    {
     "data": {
      "text/plain": [
       "17"
      ]
     },
     "execution_count": 18,
     "metadata": {},
     "output_type": "execute_result"
    }
   ],
   "source": [
    "thermal_noise_removal = None\n",
    "apply_orbit_file = None\n",
    "calibration = None\n",
    "speckle_filter = None\n",
    "terrain_correction = None\n",
    "\n",
    "gc.collect()"
   ]
  },
  {
   "cell_type": "markdown",
   "metadata": {},
   "source": [
    "#### Save the result"
   ]
  },
  {
   "cell_type": "code",
   "execution_count": null,
   "metadata": {
    "collapsed": false
   },
   "outputs": [],
   "source": [
    "output_name = '%s_Beta0_%s.tif' % (input_identifier, 'all_bands')"
   ]
  },
  {
   "cell_type": "code",
   "execution_count": null,
   "metadata": {
    "collapsed": false
   },
   "outputs": [],
   "source": [
    "ProductIO.writeProduct(lineartodb, output_name, 'GeoTIFF-BigTIFF')"
   ]
  },
  {
   "cell_type": "markdown",
   "metadata": {},
   "source": [
    "### License"
   ]
  },
  {
   "cell_type": "markdown",
   "metadata": {},
   "source": [
    "This work is licenced under a [Attribution-ShareAlike 4.0 International License (CC BY-SA 4.0)](http://creativecommons.org/licenses/by-sa/4.0/) \n",
    "\n",
    "YOU ARE FREE TO:\n",
    "\n",
    "* Share - copy and redistribute the material in any medium or format.\n",
    "* Adapt - remix, transform, and built upon the material for any purpose, even commercially.\n",
    "\n",
    "UNDER THE FOLLOWING TERMS:\n",
    "\n",
    "* Attribution - You must give appropriate credit, provide a link to the license, and indicate if changes were made. You may do so in any reasonable manner, but not in any way that suggests the licensor endorses you or your use.\n",
    "* ShareAlike - If you remix, transform, or build upon the material, you must distribute your contributions under the same license as the original."
   ]
  }
 ],
 "metadata": {
  "kernelspec": {
   "display_name": "Python 2",
   "language": "python",
   "name": "python2"
  },
  "language_info": {
   "codemirror_mode": {
    "name": "ipython",
    "version": 2
   },
   "file_extension": ".py",
   "mimetype": "text/x-python",
   "name": "python",
   "nbconvert_exporter": "python",
   "pygments_lexer": "ipython2",
   "version": "2.7.12"
  }
 },
 "nbformat": 4,
 "nbformat_minor": 2
}
